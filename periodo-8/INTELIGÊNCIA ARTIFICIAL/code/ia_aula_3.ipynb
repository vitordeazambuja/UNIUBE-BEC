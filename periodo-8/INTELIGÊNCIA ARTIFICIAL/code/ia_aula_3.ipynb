{
  "nbformat": 4,
  "nbformat_minor": 0,
  "metadata": {
    "colab": {
      "provenance": []
    },
    "kernelspec": {
      "name": "python3",
      "display_name": "Python 3"
    },
    "language_info": {
      "name": "python"
    }
  },
  "cells": [
    {
      "cell_type": "code",
      "source": [
        "import numpy as np\n",
        "\n",
        "# Dados de exemplo\n",
        "x = np.array([1, 2, 3, 4, 5])\n",
        "y = np.array([2, 2.5, 3, 4, 4.5])\n",
        "\n",
        "# Cálculo das médias\n",
        "x_mean = np.mean(x)\n",
        "y_mean = np.mean(y)\n",
        "\n",
        "# Cálculo do coeficiente angular (Beta 1)\n",
        "numerador = np.sum((x - x_mean) * (y - y_mean))\n",
        "denominador = np.sum((x - x_mean) ** 2)\n",
        "beta_1 = numerador / denominador\n",
        "\n",
        "# Cálculo do intercepto (Beta 0)\n",
        "beta_0 = y_mean - beta_1 * x_mean\n",
        "\n",
        "print(f\"Coeficiente Angular (Beta 1): {beta_1:.4f}\")\n",
        "print(f\"Intercepto (Beta 0): {beta_0:.4f}\")"
      ],
      "metadata": {
        "colab": {
          "base_uri": "https://localhost:8080/"
        },
        "id": "jsyFIkS55c0W",
        "outputId": "112656ff-0268-4803-c3f6-63b0fa99b7a9"
      },
      "execution_count": null,
      "outputs": [
        {
          "output_type": "stream",
          "name": "stdout",
          "text": [
            "Coeficiente Angular (Beta 1): 0.6500\n",
            "Intercepto (Beta 0): 1.2500\n"
          ]
        }
      ]
    },
    {
      "cell_type": "code",
      "source": [
        "import numpy as np\n",
        "\n",
        "# Dados de exemplo\n",
        "x = np.array([1, 2, 3, 4, 5])\n",
        "y_real = np.array([2, 2.5, 3, 4, 4.5])\n",
        "\n",
        "# Coeficientes da regressão\n",
        "beta_0 = 1.25\n",
        "beta_1 = 0.65\n",
        "\n",
        "# Previsões do modelo\n",
        "y_pred = beta_0 + beta_1 * x\n",
        "\n",
        "# Cálculo do SS_res (Soma dos Quadrados dos Resíduos)\n",
        "ss_res = np.sum((y_real - y_pred) ** 2)\n",
        "\n",
        "# Cálculo do SS_tot (Soma dos Quadrados Totais)\n",
        "y_mean = np.mean(y_real)\n",
        "ss_tot = np.sum((y_real - y_mean) ** 2)\n",
        "\n",
        "# Cálculo do R²\n",
        "r2 = 1 - (ss_res / ss_tot)\n",
        "\n",
        "print(f\"Erro Quadrático Médio (MSE): {ss_res / len(y_real):.4f}\")\n",
        "print(f\"Erro Médio Absoluto (MAE): {np.mean(np.abs(y_real - y_pred)):.4f}\")\n",
        "print(f\"Coeficiente de Determinação (R²): {r2:.4f}\")"
      ],
      "metadata": {
        "colab": {
          "base_uri": "https://localhost:8080/"
        },
        "id": "HZMOgEZE6BK9",
        "outputId": "43cbcf1b-b3cf-4edd-a6d7-64fffde0cfbc"
      },
      "execution_count": null,
      "outputs": [
        {
          "output_type": "stream",
          "name": "stdout",
          "text": [
            "Erro Quadrático Médio (MSE): 0.0150\n",
            "Erro Médio Absoluto (MAE): 0.1000\n",
            "Coeficiente de Determinação (R²): 0.9826\n"
          ]
        }
      ]
    },
    {
      "cell_type": "code",
      "execution_count": null,
      "metadata": {
        "colab": {
          "base_uri": "https://localhost:8080/",
          "height": 430
        },
        "id": "AsrjSA10YZRJ",
        "outputId": "fd11cb97-451f-41ae-ddda-9727ac6d27e1"
      },
      "outputs": [
        {
          "output_type": "display_data",
          "data": {
            "text/plain": [
              "<Figure size 640x480 with 1 Axes>"
            ],
            "image/png": "[encoded data removed]"
          },
          "metadata": {}
        }
      ],
      "source": [
        "import numpy as np\n",
        "import matplotlib.pyplot as plt\n",
        "from sklearn.linear_model import LinearRegression\n",
        "\n",
        "# Dados de exemplo\n",
        "X = np.array([1, 2, 3, 4, 5]).reshape(-1, 1)\n",
        "y = np.array([2, 2.5, 3, 4, 4.5])\n",
        "\n",
        "# Criando o modelo\n",
        "model = LinearRegression()\n",
        "model.fit(X, y)\n",
        "\n",
        "# Predição\n",
        "y_pred = model.predict(X)\n",
        "\n",
        "# Visualização\n",
        "plt.scatter(X, y, color='blue', label='Dados reais')\n",
        "plt.plot(X, y_pred, color='red', label='Regressão Linear')\n",
        "plt.legend()\n",
        "plt.show()"
      ]
    }
  ]
}